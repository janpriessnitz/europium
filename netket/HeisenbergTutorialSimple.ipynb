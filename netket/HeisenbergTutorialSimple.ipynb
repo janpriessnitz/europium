{
 "cells": [
  {
   "cell_type": "code",
   "execution_count": 2,
   "metadata": {},
   "outputs": [],
   "source": [
    "import os\n",
    "os.environ[\"JAX_PLATFORM_NAME\"] = \"cpu\""
   ]
  },
  {
   "cell_type": "code",
   "execution_count": 3,
   "metadata": {},
   "outputs": [],
   "source": [
    "# Import netket library\n",
    "import netket as nk\n",
    "\n",
    "# Import Json, this will be needed to load log files\n",
    "import json\n",
    "\n",
    "# Helper libraries\n",
    "import numpy as np\n",
    "import matplotlib.pyplot as plt\n",
    "import time"
   ]
  },
  {
   "cell_type": "code",
   "execution_count": 16,
   "metadata": {},
   "outputs": [],
   "source": [
    "# Define a 1d chain\n",
    "L = 4\n",
    "g = nk.graph.Hypercube(length=L, n_dim=2, pbc=True)"
   ]
  },
  {
   "cell_type": "code",
   "execution_count": 17,
   "metadata": {},
   "outputs": [],
   "source": [
    "# Define the Hilbert space based on this graph\n",
    "# We impose to have a fixed total magnetization of zero \n",
    "hi = nk.hilbert.Spin(s=0.5, total_sz=0, N=g.n_nodes)"
   ]
  },
  {
   "cell_type": "code",
   "execution_count": 18,
   "metadata": {},
   "outputs": [],
   "source": [
    "# calling the Heisenberg Hamiltonian\n",
    "ha = nk.operator.Heisenberg(hilbert=hi, graph=g)"
   ]
  },
  {
   "cell_type": "code",
   "execution_count": 19,
   "metadata": {},
   "outputs": [
    {
     "name": "stdout",
     "output_type": "stream",
     "text": [
      "The exact ground-state energy is E0= -44.91393283371544\n"
     ]
    }
   ],
   "source": [
    "# compute the ground-state energy (here we only need the lowest energy, and do not need the eigenstate)\n",
    "evals = nk.exact.lanczos_ed(ha, compute_eigenvectors=False)\n",
    "exact_gs_energy = evals[0]\n",
    "print('The exact ground-state energy is E0=',exact_gs_energy)\n",
    "\n",
    "# Just in case you can't do this calculation, here is the result\n",
    "# exact_gs_energy = -39.14752260706246"
   ]
  },
  {
   "cell_type": "code",
   "execution_count": 25,
   "metadata": {},
   "outputs": [],
   "source": [
    "evals2, states2 = nk.exact.full_ed(ha, compute_eigenvectors=True)\n"
   ]
  },
  {
   "cell_type": "code",
   "execution_count": null,
   "metadata": {},
   "outputs": [],
   "source": [
    "ha.to_dense()"
   ]
  },
  {
   "cell_type": "code",
   "execution_count": 20,
   "metadata": {},
   "outputs": [],
   "source": [
    "import flax.linen as nn\n",
    "import jax.numpy as jnp\n",
    "import jax\n",
    "\n",
    "class Jastrow(nn.Module):\n",
    "    @nn.compact\n",
    "    def __call__(self, x):\n",
    "        # sometimes we call this function with a 1D input, sometimes with a 2D.\n",
    "        # We promote all inputs to 2D to make the following code simpler.\n",
    "        x = jnp.atleast_2d(x)\n",
    "        # We vmap along the 0-th axis of the input\n",
    "        # This will automatically convert a function working on vectors to one working\n",
    "        # on matrices.\n",
    "        return jax.vmap(self.evaluate_single, in_axes=(0))(x)\n",
    "        \n",
    "    def evaluate_single(self, x):\n",
    "        # We create the parameter v, which is a vector of length N_sites \n",
    "        v_bias = self.param(\n",
    "            \"visible_bias\", nn.initializers.normal(), (x.shape[-1],), complex\n",
    "        )\n",
    "    \n",
    "        # The Jastrow matrix is a N_sites x N_sites complex-valued matrix\n",
    "        J = self.param(\n",
    "            \"kernel\", nn.initializers.normal(), (x.shape[-1],x.shape[-1]), complex\n",
    "        )\n",
    "        \n",
    "        # In python @ symbolises matrix multiplication\n",
    "        return x.T@J@x + jnp.dot(x, v_bias)\n",
    "ma = Jastrow()"
   ]
  },
  {
   "cell_type": "code",
   "execution_count": 21,
   "metadata": {},
   "outputs": [
    {
     "name": "stderr",
     "output_type": "stream",
     "text": [
      "/home/jp/.local/lib/python3.8/site-packages/netket/vqs/mc/mc_state/state.py:60: UserWarning: n_samples=1000 (1000 per MPI rank) does not divide n_chains=16, increased to 1008 (1008 per MPI rank)\n",
      "  warnings.warn(\n",
      "100%|██████████| 300/300 [00:08<00:00, 33.92it/s, Energy=-44.28-0.00j ± 0.11 [σ²=11.69, R̂=1.0244]]"
     ]
    },
    {
     "name": "stdout",
     "output_type": "stream",
     "text": [
      "### Jastrow calculation\n",
      "Has 272 parameters\n",
      "The Jastrow calculation took 10.76872444152832 seconds\n"
     ]
    },
    {
     "name": "stderr",
     "output_type": "stream",
     "text": [
      "\n"
     ]
    }
   ],
   "source": [
    "# Build the sampler\n",
    "sa = nk.sampler.MetropolisExchange(hilbert=hi,graph=g)\n",
    "\n",
    "# Optimizer\n",
    "op = nk.optimizer.Sgd(learning_rate=0.1)\n",
    "\n",
    "# Stochastic Reconfiguration\n",
    "sr = nk.optimizer.SR(diag_shift=0.1)\n",
    "\n",
    "# The variational state\n",
    "vs = nk.vqs.MCState(sa, ma, n_samples=1000)\n",
    "\n",
    "# The ground-state optimization loop\n",
    "gs = nk.VMC(\n",
    "    hamiltonian=ha,\n",
    "    optimizer=op,\n",
    "    preconditioner=sr,\n",
    "    variational_state=vs)\n",
    "\n",
    "start = time.time()\n",
    "gs.run(300, out='Jastrow')\n",
    "end = time.time()\n",
    "\n",
    "print('### Jastrow calculation')\n",
    "print('Has',nk.jax.tree_size(vs.parameters),'parameters')\n",
    "print('The Jastrow calculation took',end-start,'seconds')"
   ]
  },
  {
   "cell_type": "code",
   "execution_count": 24,
   "metadata": {},
   "outputs": [
    {
     "data": {
      "image/png": "[encoded data removed]",
      "text/plain": [
       "<Figure size 432x288 with 1 Axes>"
      ]
     },
     "metadata": {
      "needs_background": "light"
     },
     "output_type": "display_data"
    }
   ],
   "source": [
    "# import the data from log file\n",
    "data_Jastrow=json.load(open(\"Jastrow.log\"))\n",
    "   \n",
    "iters_Jastrow = data_Jastrow[\"Energy\"][\"iters\"]\n",
    "energy_Jastrow = data_Jastrow[\"Energy\"][\"Mean\"][\"real\"]\n",
    "\n",
    "fig, ax1 = plt.subplots()\n",
    "ax1.plot(iters_Jastrow, energy_Jastrow, color='C8', label='Energy (Jastrow)')\n",
    "ax1.set_ylabel('Energy')\n",
    "ax1.set_xlabel('Iteration')\n",
    "plt.axhline(y=exact_gs_energy, xmin=0,\n",
    "                xmax=iters_Jastrow[-1], linewidth=2, color='k', label='Exact')\n",
    "ax1.legend()\n",
    "plt.show()"
   ]
  },
  {
   "cell_type": "code",
   "execution_count": null,
   "metadata": {},
   "outputs": [],
   "source": []
  }
 ],
 "metadata": {
  "kernelspec": {
   "display_name": "Python 3",
   "language": "python",
   "name": "python3"
  },
  "language_info": {
   "codemirror_mode": {
    "name": "ipython",
    "version": 3
   },
   "file_extension": ".py",
   "mimetype": "text/x-python",
   "name": "python",
   "nbconvert_exporter": "python",
   "pygments_lexer": "ipython3",
   "version": "3.8.10"
  },
  "orig_nbformat": 4,
  "vscode": {
   "interpreter": {
    "hash": "767d51c1340bd893661ea55ea3124f6de3c7a262a8b4abca0554b478b1e2ff90"
   }
  }
 },
 "nbformat": 4,
 "nbformat_minor": 2
}
