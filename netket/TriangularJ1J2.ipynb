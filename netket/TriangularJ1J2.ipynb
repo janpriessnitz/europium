{
 "cells": [
  {
   "cell_type": "code",
   "execution_count": 1,
   "metadata": {},
   "outputs": [],
   "source": [
    "import os\n",
    "os.environ[\"JAX_PLATFORM_NAME\"] = \"cpu\"\n",
    "# os.environ[\"JAX_PLATFORM_NAME\"] = \"gpu\"\n",
    "import netket as nk\n",
    "import numpy as np\n",
    "import matplotlib.pyplot as plt\n",
    "import time\n",
    "import json"
   ]
  },
  {
   "cell_type": "code",
   "execution_count": 2,
   "metadata": {},
   "outputs": [],
   "source": [
    "vec_a = np.array((1, 0))\n",
    "vec_b = np.array((1/2, np.sqrt(3)/2))\n",
    "vec_base = np.array((vec_a, vec_b))\n",
    "\n",
    "# triangular graph with nearest neighbors and second nearest neighbors\n",
    "def graph_edges(L):\n",
    "    edges = []\n",
    "    def index(pos):\n",
    "        return (pos[0]%L) + (pos[1]%L)*L\n",
    "    # first_neigh_mask = np.array([(1, 0), (-1, 0), (0, 1), (0, -1), (1, -1), (-1, 1)])\n",
    "    first_neigh_mask = np.array([(1, 0), (0, 1), (1, -1)])\n",
    "    # second_neigh_mask = np.array([(1, 1), (-1, -1), (2, -1), (-2, 1), (-1, 2), (1, -2)])\n",
    "    second_neigh_mask = np.array([(1, 1), (2, -1), (1, -2)])\n",
    "    for x in range(L):\n",
    "        for y in range(L):\n",
    "            cur_pos = np.array([x, y])\n",
    "            cur_i = index(cur_pos)\n",
    "            neighs1 = first_neigh_mask + cur_pos\n",
    "            neighs1_i = [index(pos) for pos in neighs1]\n",
    "            edges.extend([[cur_i, neigh1_i, 1] for neigh1_i in neighs1_i])\n",
    "            neighs2 = second_neigh_mask + cur_pos\n",
    "            neighs2_i = [index(pos) for pos in neighs2]\n",
    "            edges.extend([[cur_i, neigh2_i, 2] for neigh2_i in neighs2_i])\n",
    "    return edges\n",
    "\n",
    "L = 10\n",
    "g = nk.graph.Graph(edges=graph_edges(L))\n",
    "hi = nk.hilbert.Spin(s=0.5, total_sz=0.0, N=g.n_nodes)"
   ]
  },
  {
   "cell_type": "code",
   "execution_count": 4,
   "metadata": {},
   "outputs": [],
   "source": [
    "J = [1, 0.2]\n"
   ]
  },
  {
   "cell_type": "code",
   "execution_count": 5,
   "metadata": {},
   "outputs": [],
   "source": [
    "#Sigma^z*Sigma^z interactions\n",
    "sigmaz = [[1, 0], [0, -1]]\n",
    "mszsz = (np.kron(sigmaz, sigmaz))"
   ]
  },
  {
   "cell_type": "code",
   "execution_count": 6,
   "metadata": {},
   "outputs": [
    {
     "data": {
      "text/plain": [
       "array([[ 1,  0,  0,  0],\n",
       "       [ 0, -1,  0,  0],\n",
       "       [ 0,  0, -1,  0],\n",
       "       [ 0,  0,  0,  1]])"
      ]
     },
     "execution_count": 6,
     "metadata": {},
     "output_type": "execute_result"
    }
   ],
   "source": [
    "mszsz"
   ]
  },
  {
   "cell_type": "code",
   "execution_count": null,
   "metadata": {},
   "outputs": [],
   "source": []
  }
 ],
 "metadata": {
  "interpreter": {
   "hash": "e7370f93d1d0cde622a1f8e1c04877d8463912d04d973331ad4851f04de6915a"
  },
  "kernelspec": {
   "display_name": "Python 3.8.10 64-bit",
   "language": "python",
   "name": "python3"
  },
  "language_info": {
   "codemirror_mode": {
    "name": "ipython",
    "version": 3
   },
   "file_extension": ".py",
   "mimetype": "text/x-python",
   "name": "python",
   "nbconvert_exporter": "python",
   "pygments_lexer": "ipython3",
   "version": "3.10.7"
  },
  "orig_nbformat": 4
 },
 "nbformat": 4,
 "nbformat_minor": 2
}
